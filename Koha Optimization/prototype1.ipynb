{
 "cells": [
  {
   "cell_type": "markdown",
   "id": "a3a1c624",
   "metadata": {},
   "source": [
    "In this mini-project, we assume that we get the entire KOHA book catalogue via its API — not filtered, just dumped — and then perform fuzzy search locally over it. While this is technically possible, it's extremely inefficient as KOHA is not designed to serve 10k–50k entries on every query. This method only serves to demonstrate why local indexing or Zebra-style narrowing is necessary."
   ]
  },
  {
   "cell_type": "code",
   "execution_count": 69,
   "id": "d0cd62f9",
   "metadata": {},
   "outputs": [
    {
     "name": "stdout",
     "output_type": "stream",
     "text": [
      "\n",
      "Time taken for direct fuzzy search (O(n)): 0.0108 seconds\n",
      "                            Book Title      Authors  Fuzzy Score\n",
      "0                             Frequenz                 42.105263\n",
      "1                             Frequenz                 42.105263\n",
      "2                  [Electrical section                 40.000000\n",
      "3  Electrical engineering fundamentals  Heinz Graff    38.596491\n",
      "4                Electrostatic hazards  Heinz Haase    37.209302\n"
     ]
    }
   ],
   "source": [
    "import pandas as pd\n",
    "from rapidfuzz import process, fuzz\n",
    "import time\n",
    "\n",
    "# Load dataset (same as yours)\n",
    "df = pd.read_csv(\"books_10k.csv\")\n",
    "\n",
    "df.fillna(\"\", inplace=True)\n",
    "\n",
    "# Create combined field for fuzzy match\n",
    "df[\"query_blob\"] = df[\"Book Title\"] + df[\"Authors\"]\n",
    "query_strings = df[\"query_blob\"].tolist()\n",
    "\n",
    "# Direct fuzzy search on all rows\n",
    "def direct_fuzzy_search(query, top_k=5):\n",
    "    start = time.time()\n",
    "\n",
    "    matches = process.extract(\n",
    "        query,\n",
    "        query_strings,\n",
    "        scorer=fuzz.token_sort_ratio,\n",
    "        limit=top_k\n",
    "    )\n",
    "\n",
    "    end = time.time()\n",
    "    print(f\"\\nTime taken for direct fuzzy search (O(n)): {round(end - start, 4)} seconds\")\n",
    "\n",
    "    results = []\n",
    "    for _, score, idx in matches:\n",
    "        results.append({\n",
    "            \"Book Title\": df.loc[idx, \"Book Title\"],\n",
    "            \"Authors\": df.loc[idx, \"Authors\"],\n",
    "            \"Fuzzy Score\": score\n",
    "        })\n",
    "\n",
    "    return pd.DataFrame(results)\n",
    "\n",
    "# Example usage\n",
    "query = \"Heinz Graff\"\n",
    "results = direct_fuzzy_search(query)\n",
    "\n",
    "print(results)\n"
   ]
  },
  {
   "cell_type": "code",
   "execution_count": 70,
   "id": "81390065",
   "metadata": {},
   "outputs": [
    {
     "name": "stdout",
     "output_type": "stream",
     "text": [
      "\n",
      "Time taken for direct fuzzy search (O(n)): 0.0457 seconds\n",
      "    Book Title          Authors  Fuzzy Score\n",
      "0  Think In 4D      Erica Heinz    48.484848\n",
      "1     Men Talk  Alvin S. Baraff    47.058824\n",
      "2       Hunger       Roxane Gay    44.444444\n",
      "3       Hunter  Giancarlo Genta    43.750000\n",
      "4  Drama Kings       Dalma Heyn    43.750000\n"
     ]
    }
   ],
   "source": [
    "import pandas as pd\n",
    "from rapidfuzz import process, fuzz\n",
    "import time\n",
    "\n",
    "# Load dataset (same as yours)\n",
    "df = pd.read_csv(\"books_50k.csv\")\n",
    "\n",
    "df.fillna(\"\", inplace=True)\n",
    "\n",
    "# Create combined field for fuzzy match\n",
    "df[\"query_blob\"] = df[\"Book Title\"] + df[\"Authors\"]\n",
    "query_strings = df[\"query_blob\"].tolist()\n",
    "\n",
    "# Direct fuzzy search on all rows\n",
    "def direct_fuzzy_search(query, top_k=5):\n",
    "    start = time.time()\n",
    "\n",
    "    matches = process.extract(\n",
    "        query,\n",
    "        query_strings,\n",
    "        scorer=fuzz.token_sort_ratio,\n",
    "        limit=top_k\n",
    "    )\n",
    "\n",
    "    end = time.time()\n",
    "    print(f\"\\nTime taken for direct fuzzy search (O(n)): {round(end - start, 4)} seconds\")\n",
    "\n",
    "    results = []\n",
    "    for _, score, idx in matches:\n",
    "        results.append({\n",
    "            \"Book Title\": df.loc[idx, \"Book Title\"],\n",
    "            \"Authors\": df.loc[idx, \"Authors\"],\n",
    "            \"Fuzzy Score\": score\n",
    "        })\n",
    "\n",
    "    return pd.DataFrame(results)\n",
    "\n",
    "# Example usage\n",
    "query = \"Heinz Graff\"\n",
    "results = direct_fuzzy_search(query)\n",
    "\n",
    "print(results)\n"
   ]
  },
  {
   "cell_type": "code",
   "execution_count": 71,
   "id": "10e00e5f",
   "metadata": {},
   "outputs": [
    {
     "name": "stdout",
     "output_type": "stream",
     "text": [
      "\n",
      "Time taken for direct fuzzy search (O(n)): 0.0926 seconds\n",
      "     Book Title            Authors  Fuzzy Score\n",
      "0   Think In 4D        Erica Heinz    48.484848\n",
      "1      Men Talk    Alvin S. Baraff    47.058824\n",
      "2    Mathematik     Heinz Birnbaum    45.714286\n",
      "3  Construction  Gerhard Heinzmann    45.000000\n",
      "4        Hunger         Roxane Gay    44.444444\n"
     ]
    }
   ],
   "source": [
    "import pandas as pd\n",
    "from rapidfuzz import process, fuzz\n",
    "import time\n",
    "\n",
    "# Load dataset (same as yours)\n",
    "df = pd.read_csv(\"books_100k.csv\")\n",
    "\n",
    "df.fillna(\"\", inplace=True)\n",
    "\n",
    "# Create combined field for fuzzy match\n",
    "df[\"query_blob\"] = df[\"Book Title\"] + df[\"Authors\"]\n",
    "query_strings = df[\"query_blob\"].tolist()\n",
    "\n",
    "# Direct fuzzy search on all rows\n",
    "def direct_fuzzy_search(query, top_k=5):\n",
    "    start = time.time()\n",
    "\n",
    "    matches = process.extract(\n",
    "        query,\n",
    "        query_strings,\n",
    "        scorer=fuzz.token_sort_ratio,\n",
    "        limit=top_k\n",
    "    )\n",
    "\n",
    "    end = time.time()\n",
    "    print(f\"\\nTime taken for direct fuzzy search (O(n)): {round(end - start, 4)} seconds\")\n",
    "\n",
    "    results = []\n",
    "    for _, score, idx in matches:\n",
    "        results.append({\n",
    "            \"Book Title\": df.loc[idx, \"Book Title\"],\n",
    "            \"Authors\": df.loc[idx, \"Authors\"],\n",
    "            \"Fuzzy Score\": score\n",
    "        })\n",
    "\n",
    "    return pd.DataFrame(results)\n",
    "\n",
    "# Example usage\n",
    "query = \"Heinz Graff\"\n",
    "results = direct_fuzzy_search(query)\n",
    "\n",
    "print(results)\n"
   ]
  },
  {
   "cell_type": "code",
   "execution_count": null,
   "id": "2048b047",
   "metadata": {},
   "outputs": [],
   "source": []
  }
 ],
 "metadata": {
  "kernelspec": {
   "display_name": "Python 3",
   "language": "python",
   "name": "python3"
  },
  "language_info": {
   "codemirror_mode": {
    "name": "ipython",
    "version": 3
   },
   "file_extension": ".py",
   "mimetype": "text/x-python",
   "name": "python",
   "nbconvert_exporter": "python",
   "pygments_lexer": "ipython3",
   "version": "3.12.5"
  }
 },
 "nbformat": 4,
 "nbformat_minor": 5
}
