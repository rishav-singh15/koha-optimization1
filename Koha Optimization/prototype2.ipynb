{
 "cells": [
  {
   "cell_type": "code",
   "execution_count": 91,
   "id": "96baaf10",
   "metadata": {},
   "outputs": [
    {
     "name": "stdout",
     "output_type": "stream",
     "text": [
      "Requirement already satisfied: rapidfuzz in /Library/Frameworks/Python.framework/Versions/3.12/lib/python3.12/site-packages (3.13.0)\n",
      "Note: you may need to restart the kernel to use updated packages.\n"
     ]
    }
   ],
   "source": [
    "%pip install rapidfuzz"
   ]
  },
  {
   "cell_type": "code",
   "execution_count": 92,
   "id": "804a96a5",
   "metadata": {},
   "outputs": [],
   "source": [
    "import pandas as pd\n",
    "from sklearn.feature_extraction.text import TfidfVectorizer\n",
    "from sklearn.metrics.pairwise import linear_kernel\n",
    "\n",
    "\n",
    "df = pd.read_csv(\"books_10k.csv\")  # or any sample csv\n",
    "\n",
    "df.fillna(\"\", inplace=True)\n",
    "\n",
    "#Combine searchable fields\n",
    "df[\"search_blob\"] = df[\"Book Title\"] + \" \" + df[\"Authors\"]\n",
    "\n",
    "#Build the TF-IDF index (mimicking Zebra index) \n",
    "#This step is already performed in KOHA library. Its time complexity is O(n).\n",
    "vectorizer = TfidfVectorizer(stop_words='english')\n",
    "tfidf_matrix = vectorizer.fit_transform(df[\"search_blob\"])\n",
    "\n",
    "#KOHA-like search\n",
    "#Time complexity is O(log n)\n",
    "def zebra_style_search(query, top_k=200):\n",
    "    query_vec = vectorizer.transform([query])\n",
    "    cosine_similarities = linear_kernel(query_vec, tfidf_matrix).flatten()\n",
    "    \n",
    "    top_indices = cosine_similarities.argsort()[::-1][:top_k]\n",
    "    \n",
    "    results = df.iloc[top_indices][[\"Book Title\", \"Authors\"]].copy()\n",
    "    results[\"Score\"] = cosine_similarities[top_indices]\n",
    "    return results.reset_index(drop=True)\n",
    "\n"
   ]
  },
  {
   "cell_type": "code",
   "execution_count": 93,
   "id": "2051eede",
   "metadata": {},
   "outputs": [],
   "source": [
    "from rapidfuzz import process, fuzz\n",
    "\n",
    "def fuzzy_rerank(user_query, zebra_results, top_k=5):\n",
    "    # Combine title and author for fuzzy matching\n",
    "    combined_strings = (\n",
    "        zebra_results[\"Book Title\"] + zebra_results[\"Authors\"]\n",
    "    ).tolist()\n",
    "\n",
    "    # Use RapidFuzz to re-rank based on full string\n",
    "    matches = process.extract(\n",
    "        user_query,\n",
    "        combined_strings,\n",
    "        scorer=fuzz.token_sort_ratio,\n",
    "        limit=top_k\n",
    "    )\n",
    "    \n",
    "    # Prepare final output\n",
    "    final_results = []\n",
    "    for _, fuzzy_score, index in matches:\n",
    "        row = zebra_results.iloc[index]\n",
    "        final_results.append({\n",
    "            \"Book Title\": row[\"Book Title\"],\n",
    "            \"Authors\": row[\"Authors\"],\n",
    "            \"Zebra Score\": round(row[\"Score\"], 4),\n",
    "            \"Fuzzy Score\": fuzzy_score\n",
    "        })\n",
    "    \n",
    "    return pd.DataFrame(final_results)\n"
   ]
  },
  {
   "cell_type": "code",
   "execution_count": 94,
   "id": "e4d8ecb1",
   "metadata": {},
   "outputs": [
    {
     "data": {
      "text/plain": [
       "'  In KOHA, the indexing phase (O(n)) is performed only once when books are added,\\n   and search is performed in real time using Zebra (O(log n)). My local system replicates\\n   this by separating the indexing and only measuring the time for real-time search (TF-\\n   IDF + Fuzzy logic). It returns top 5 accurate results in about X seconds on a dataset of N books. '"
      ]
     },
     "execution_count": 94,
     "metadata": {},
     "output_type": "execute_result"
    }
   ],
   "source": [
    "import time\n",
    "'''  In KOHA, the indexing phase (O(n)) is performed only once when books are added,\n",
    "   and search is performed in real time using Zebra (O(log n)). My local system replicates\n",
    "   this by separating the indexing and only measuring the time for real-time search (TF-\n",
    "   IDF + Fuzzy logic). It returns top 5 accurate results in about X seconds on a dataset of N books. '''"
   ]
  },
  {
   "cell_type": "code",
   "execution_count": 95,
   "id": "43d05a43",
   "metadata": {},
   "outputs": [],
   "source": [
    "def hybrid_koha_search(query, zebra_limit=200, fuzzy_limit=5):\n",
    "    start = time.time()\n",
    "\n",
    "    zebra_results = zebra_style_search(query, top_k=zebra_limit)\n",
    "    final_results = fuzzy_rerank(query, zebra_results, top_k=fuzzy_limit)\n",
    "\n",
    "    end = time.time()\n",
    "    print(f\"\\nTotal time taken (excluding indexing): {round(end - start, 4)} seconds\\n\")\n",
    "    b10=round(end - start, 4)\n",
    "    \n",
    "    return final_results"
   ]
  },
  {
   "cell_type": "code",
   "execution_count": 96,
   "id": "69ba409f",
   "metadata": {},
   "outputs": [
    {
     "name": "stdout",
     "output_type": "stream",
     "text": [
      "\n",
      "Total time taken (excluding indexing): 0.0069 seconds\n",
      "\n",
      "                            Book Title              Authors  Zebra Score  \\\n",
      "0  Electrical engineering fundamentals          Heinz Graff       0.8721   \n",
      "1                Electrostatic hazards          Heinz Haase       0.2896   \n",
      "2                     Bremen wird hell  Heinz-Gerd Hofschen       0.2169   \n",
      "3                 Powerline technician                            0.0000   \n",
      "4                  Dzhordzh Vestingauz       Henry G. Prout       0.0000   \n",
      "\n",
      "   Fuzzy Score  \n",
      "0    38.596491  \n",
      "1    37.209302  \n",
      "2    34.782609  \n",
      "3    32.258065  \n",
      "4    31.818182  \n"
     ]
    }
   ],
   "source": [
    "query = \"Heinz Graff\"\n",
    "results = hybrid_koha_search(query)\n",
    "\n",
    "print(results)"
   ]
  },
  {
   "cell_type": "code",
   "execution_count": 97,
   "id": "de73a6b2",
   "metadata": {},
   "outputs": [],
   "source": [
    "import pandas as pd\n",
    "from sklearn.feature_extraction.text import TfidfVectorizer\n",
    "from sklearn.metrics.pairwise import linear_kernel\n",
    "\n",
    "\n",
    "df = pd.read_csv(\"books_50k.csv\")  # or any sample csv\n",
    "\n",
    "df.fillna(\"\", inplace=True)\n",
    "\n",
    "#Combine searchable fields\n",
    "df[\"search_blob\"] = df[\"Book Title\"] + \" \" + df[\"Authors\"]\n",
    "\n",
    "#Build the TF-IDF index (mimicking Zebra index) \n",
    "#This step is already performed in KOHA library. Its time complexity is O(n).\n",
    "vectorizer = TfidfVectorizer(stop_words='english')\n",
    "tfidf_matrix = vectorizer.fit_transform(df[\"search_blob\"])\n",
    "\n",
    "#KOHA-like search\n",
    "#Time complexity is O(log n)\n",
    "def zebra_style_search(query, top_k=200):\n",
    "    query_vec = vectorizer.transform([query])\n",
    "    cosine_similarities = linear_kernel(query_vec, tfidf_matrix).flatten()\n",
    "    \n",
    "    top_indices = cosine_similarities.argsort()[::-1][:top_k]\n",
    "    \n",
    "    results = df.iloc[top_indices][[\"Book Title\", \"Authors\"]].copy()\n",
    "    results[\"Score\"] = cosine_similarities[top_indices]\n",
    "    return results.reset_index(drop=True)\n",
    "from rapidfuzz import process, fuzz\n",
    "\n",
    "def fuzzy_rerank(user_query, zebra_results, top_k=5):\n",
    "    # Combine title and author for fuzzy matching\n",
    "    combined_strings = (\n",
    "        zebra_results[\"Book Title\"] + zebra_results[\"Authors\"]\n",
    "    ).tolist()\n",
    "\n",
    "    # Use RapidFuzz to re-rank based on full string\n",
    "    matches = process.extract(\n",
    "        user_query,\n",
    "        combined_strings,\n",
    "        scorer=fuzz.token_sort_ratio,\n",
    "        limit=top_k\n",
    "    )\n",
    "    \n",
    "    # Prepare final output\n",
    "    final_results = []\n",
    "    for _, fuzzy_score, index in matches:\n",
    "        row = zebra_results.iloc[index]\n",
    "        final_results.append({\n",
    "            \"Book Title\": row[\"Book Title\"],\n",
    "            \"Authors\": row[\"Authors\"],\n",
    "            \"Zebra Score\": round(row[\"Score\"], 4),\n",
    "            \"Fuzzy Score\": fuzzy_score\n",
    "        })\n",
    "    \n",
    "    return pd.DataFrame(final_results)\n",
    "\n",
    "import time\n",
    "def hybrid_koha_search(query, zebra_limit=200, fuzzy_limit=5):\n",
    "    start = time.time()\n",
    "\n",
    "    zebra_results = zebra_style_search(query, top_k=zebra_limit)\n",
    "    final_results = fuzzy_rerank(query, zebra_results, top_k=fuzzy_limit)\n",
    "\n",
    "    end = time.time()\n",
    "    print(f\"\\nTotal time taken (excluding indexing): {round(end - start, 4)} seconds\\n\")\n",
    "    b50=round(end - start, 4)\n",
    "    return final_results\n"
   ]
  },
  {
   "cell_type": "code",
   "execution_count": 98,
   "id": "c343fd71",
   "metadata": {},
   "outputs": [
    {
     "name": "stdout",
     "output_type": "stream",
     "text": [
      "\n",
      "Total time taken (excluding indexing): 0.0099 seconds\n",
      "\n",
      "                            Book Title      Authors  Zebra Score  Fuzzy Score\n",
      "0                          Think In 4D  Erica Heinz       0.2824    48.484848\n",
      "1                     Kunst ist Utopie   Heinz Ohff       0.2260    43.243243\n",
      "2                       Gazō to seigyo                    0.0000    40.000000\n",
      "3  Electrical engineering fundamentals  Heinz Graff       0.8253    38.596491\n",
      "4                Electrostatic hazards  Heinz Haase       0.2707    37.209302\n"
     ]
    }
   ],
   "source": [
    "\n",
    "query = \"Heinz Graff\"\n",
    "results = hybrid_koha_search(query)\n",
    "\n",
    "print(results)"
   ]
  },
  {
   "cell_type": "code",
   "execution_count": 99,
   "id": "5a91d199",
   "metadata": {},
   "outputs": [],
   "source": [
    "import pandas as pd\n",
    "from sklearn.feature_extraction.text import TfidfVectorizer\n",
    "from sklearn.metrics.pairwise import linear_kernel\n",
    "\n",
    "\n",
    "df = pd.read_csv(\"books_100k.csv\")  # or any sample csv\n",
    "\n",
    "df.fillna(\"\", inplace=True)\n",
    "\n",
    "#Combine searchable fields\n",
    "df[\"search_blob\"] = df[\"Book Title\"] + \" \" + df[\"Authors\"]\n",
    "\n",
    "#Build the TF-IDF index (mimicking Zebra index) \n",
    "#This step is already performed in KOHA library. Its time complexity is O(n).\n",
    "vectorizer = TfidfVectorizer(stop_words='english')\n",
    "tfidf_matrix = vectorizer.fit_transform(df[\"search_blob\"])\n",
    "\n",
    "#KOHA-like search\n",
    "#Time complexity is O(log n)\n",
    "def zebra_style_search(query, top_k=200):\n",
    "    query_vec = vectorizer.transform([query])\n",
    "    cosine_similarities = linear_kernel(query_vec, tfidf_matrix).flatten()\n",
    "    \n",
    "    top_indices = cosine_similarities.argsort()[::-1][:top_k]\n",
    "    \n",
    "    results = df.iloc[top_indices][[\"Book Title\", \"Authors\"]].copy()\n",
    "    results[\"Score\"] = cosine_similarities[top_indices]\n",
    "    return results.reset_index(drop=True)\n",
    "from rapidfuzz import process, fuzz\n",
    "\n",
    "def fuzzy_rerank(user_query, zebra_results, top_k=5):\n",
    "    # Combine title and author for fuzzy matching\n",
    "    combined_strings = (\n",
    "        zebra_results[\"Book Title\"] + zebra_results[\"Authors\"]\n",
    "    ).tolist()\n",
    "\n",
    "    # Use RapidFuzz to re-rank based on full string\n",
    "    matches = process.extract(\n",
    "        user_query,\n",
    "        combined_strings,\n",
    "        scorer=fuzz.token_sort_ratio,\n",
    "        limit=top_k\n",
    "    )\n",
    "    \n",
    "    # Prepare final output\n",
    "    final_results = []\n",
    "    for _, fuzzy_score, index in matches:\n",
    "        row = zebra_results.iloc[index]\n",
    "        final_results.append({\n",
    "            \"Book Title\": row[\"Book Title\"],\n",
    "            \"Authors\": row[\"Authors\"],\n",
    "            \"Zebra Score\": round(row[\"Score\"], 4),\n",
    "            \"Fuzzy Score\": fuzzy_score\n",
    "        })\n",
    "    \n",
    "    return pd.DataFrame(final_results)\n",
    "\n",
    "import time\n",
    "def hybrid_koha_search(query, zebra_limit=200, fuzzy_limit=5):\n",
    "    start = time.time()\n",
    "\n",
    "    zebra_results = zebra_style_search(query, top_k=zebra_limit)\n",
    "    final_results = fuzzy_rerank(query, zebra_results, top_k=fuzzy_limit)\n",
    "\n",
    "    end = time.time()\n",
    "    print(f\"\\nTotal time taken (excluding indexing): {round(end - start, 4)} seconds\\n\")\n",
    "    b100=round(end - start, 4)\n",
    "    return final_results\n"
   ]
  },
  {
   "cell_type": "code",
   "execution_count": 100,
   "id": "848679fc",
   "metadata": {},
   "outputs": [
    {
     "name": "stdout",
     "output_type": "stream",
     "text": [
      "\n",
      "Total time taken (excluding indexing): 0.0093 seconds\n",
      "\n",
      "                            Book Title         Authors  Zebra Score  \\\n",
      "0                          Think In 4D     Erica Heinz       0.2575   \n",
      "1                           Mathematik  Heinz Birnbaum       0.3080   \n",
      "2                     Kunst ist Utopie      Heinz Ohff       0.2031   \n",
      "3  Electrical engineering fundamentals     Heinz Graff       0.8188   \n",
      "4                Electrostatic hazards     Heinz Haase       0.2393   \n",
      "\n",
      "   Fuzzy Score  \n",
      "0    48.484848  \n",
      "1    45.714286  \n",
      "2    43.243243  \n",
      "3    38.596491  \n",
      "4    37.209302  \n"
     ]
    }
   ],
   "source": [
    "\n",
    "query = \"Heinz Graff\"\n",
    "results = hybrid_koha_search(query)\n",
    "\n",
    "print(results)"
   ]
  }
 ],
 "metadata": {
  "kernelspec": {
   "display_name": "Python 3",
   "language": "python",
   "name": "python3"
  },
  "language_info": {
   "codemirror_mode": {
    "name": "ipython",
    "version": 3
   },
   "file_extension": ".py",
   "mimetype": "text/x-python",
   "name": "python",
   "nbconvert_exporter": "python",
   "pygments_lexer": "ipython3",
   "version": "3.12.5"
  }
 },
 "nbformat": 4,
 "nbformat_minor": 5
}
